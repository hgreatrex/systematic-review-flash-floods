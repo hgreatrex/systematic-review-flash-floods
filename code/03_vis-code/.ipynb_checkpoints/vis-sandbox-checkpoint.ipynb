{
 "cells": [
  {
   "cell_type": "code",
   "execution_count": 10,
   "metadata": {},
   "outputs": [],
   "source": [
    "import numpy as np\n",
    "import pandas as pd\n",
    "import networkx as nx\n",
    "\n",
    "from matplotlib import pyplot as plt\n",
    "%matplotlib inline\n",
    "plt.rcParams['figure.figsize'] = (12, 6)"
   ]
  },
  {
   "cell_type": "markdown",
   "metadata": {},
   "source": [
    "Variables that I care about right now: \n",
    "- `PY` : Publish Year\n",
    "- `methods` \n",
    "    1. Weather/Weather Remote Sensing \n",
    "    2. Big data/Machine learning \n",
    "    3. Mapping & GIS\n",
    "    4. Mechanistic modelling   \n",
    "    5. Community guidance & tools \n",
    "    6. Interviews/surveys \n",
    "    7. Social media or crowd sourcing\n",
    "    8. newspaper/archival/photos \n",
    "    9. conceptual framework\n",
    "    10. Lit_review/critical/opinionpiece\n",
    "    11. Economic, regression, or Psych Experiment\n",
    "    12. Physical Experiment\n",
    "    13. Trend/time-series analysis\n",
    "    14. database \n",
    "    15. other \n",
    "    16. Event Case Study\n",
    "    17. Land Remote Sensing\n",
    "- `meta_topic`\n",
    "    1. Climate Change\n",
    "    2. Long Term Impact\n",
    "    3. Land Use\n",
    "    4. Policy\n",
    "    5. Gender\n",
    "    6. Management\n",
    "    7. Transportation\n",
    "    \n",
    "    \"Climate change\" = 1, \"Long term impact\" = 2,   \"Land use\" = 3, \"Policy\" = 4,\"Gender\"=5, \"Management\" = 6, \"Transportation\" = 7"
   ]
  },
  {
   "cell_type": "markdown",
   "metadata": {},
   "source": [
    "Import and clean data by dropping unnedeed columns, renaming others for easier use, and turn `methods` into categorical data"
   ]
  },
  {
   "cell_type": "code",
   "execution_count": 21,
   "metadata": {},
   "outputs": [],
   "source": [
    "data = pd.read_csv('./ScreenedData_for-visulization.csv')\n",
    "\n",
    "# Drop columns we don't \n",
    "data.drop(['Key', 'DT2', 'TC', 'PA', 'CR', 'C1', 'SR', 'BE', 'FU', 'BN', 'SN', 'PN', 'PP', \n",
    "           'PU', 'VL', 'UT', 'NR', 'SC', 'U2', 'WC', 'EM', 'SE', 'GA', 'BO', 'RP', 'DB', \n",
    "           'AU_UN_NR', 'AU_UN', 'SR_FULL','About an actual event',  'Screen3_Planning' ], axis=1, inplace=True)\n",
    "\n",
    "# These are columns that might be useful in future analyses, but I don't need right now\n",
    "data.drop(['DT', 'LA', 'SO', 'DE', 'ID', 'DI', 'AU1_UN'], axis = 1, inplace = True)\n",
    "\n",
    "#data['PY'] = data['PY'].astype('datetime64[ns]').dt.year\n",
    "\n",
    "data.rename(columns = {'Study method':'methods', \n",
    "                       'After a flood': 'impacts', \n",
    "                       'Paper framing': 'framing', \n",
    "                       'Meta topic': 'meta_topic',\n",
    "                       'Before a flood': 'before',\n",
    "                       'During a flood': 'during',\n",
    "                       'Urban/Rural': 'urban_rural',\n",
    "                       'Flood type': 'flood_type'\n",
    "                      }, inplace = True)\n",
    "\n",
    "#data['methods'] = data['methods'].astype('category')\n",
    "#data['impacts'] = data['impacts'].astype('category')\n",
    "\n",
    "data['methods'] = data['methods'].str.split(\"_\", expand = False)\n",
    "#data['framing'] = data['framing'].astype('category')\n",
    "data['meta_topic'] = data['meta_topic'].str.split(\"_\", expand = False)"
   ]
  },
  {
   "cell_type": "code",
   "execution_count": 22,
   "metadata": {},
   "outputs": [
    {
     "data": {
      "text/html": [
       "<div>\n",
       "<style scoped>\n",
       "    .dataframe tbody tr th:only-of-type {\n",
       "        vertical-align: middle;\n",
       "    }\n",
       "\n",
       "    .dataframe tbody tr th {\n",
       "        vertical-align: top;\n",
       "    }\n",
       "\n",
       "    .dataframe thead th {\n",
       "        text-align: right;\n",
       "    }\n",
       "</style>\n",
       "<table border=\"1\" class=\"dataframe\">\n",
       "  <thead>\n",
       "    <tr style=\"text-align: right;\">\n",
       "      <th></th>\n",
       "      <th>AU</th>\n",
       "      <th>TI</th>\n",
       "      <th>AB</th>\n",
       "      <th>PY</th>\n",
       "      <th>meta_topic</th>\n",
       "      <th>framing</th>\n",
       "      <th>before</th>\n",
       "      <th>during</th>\n",
       "      <th>impacts</th>\n",
       "      <th>methods</th>\n",
       "      <th>urban_rural</th>\n",
       "      <th>flood_type</th>\n",
       "    </tr>\n",
       "  </thead>\n",
       "  <tbody>\n",
       "    <tr>\n",
       "      <th>0</th>\n",
       "      <td>Rajesh S;Jain S;Sharma P</td>\n",
       "      <td>Inherent vulnerability assessment of rural hou...</td>\n",
       "      <td>The recent trend of shifting focus from hazard...</td>\n",
       "      <td>2018.0</td>\n",
       "      <td>[0]</td>\n",
       "      <td>2</td>\n",
       "      <td>0</td>\n",
       "      <td>0</td>\n",
       "      <td>2</td>\n",
       "      <td>[6, 9, 11]</td>\n",
       "      <td>0</td>\n",
       "      <td>1</td>\n",
       "    </tr>\n",
       "    <tr>\n",
       "      <th>1</th>\n",
       "      <td>Bergholt D;Lujala P</td>\n",
       "      <td>Climate-related natural disasters, economic gr...</td>\n",
       "      <td>Global warming is expected to make the climate...</td>\n",
       "      <td>2012.0</td>\n",
       "      <td>[1]</td>\n",
       "      <td>0</td>\n",
       "      <td>0</td>\n",
       "      <td>0</td>\n",
       "      <td>2_7</td>\n",
       "      <td>[11, 13]</td>\n",
       "      <td>0</td>\n",
       "      <td>1</td>\n",
       "    </tr>\n",
       "    <tr>\n",
       "      <th>2</th>\n",
       "      <td>Nyaupane Gp;Chhetri N</td>\n",
       "      <td>Vulnerability to climate change of nature-base...</td>\n",
       "      <td>Given their unique natural attractions, includ...</td>\n",
       "      <td>2009.0</td>\n",
       "      <td>[1]</td>\n",
       "      <td>0</td>\n",
       "      <td>0</td>\n",
       "      <td>0</td>\n",
       "      <td>2_7</td>\n",
       "      <td>[9]</td>\n",
       "      <td>2</td>\n",
       "      <td>5_8</td>\n",
       "    </tr>\n",
       "    <tr>\n",
       "      <th>3</th>\n",
       "      <td>Mcclelland Dm;Bowles Ds</td>\n",
       "      <td>Estimating life loss for dam safety and risk a...</td>\n",
       "      <td>An understanding of life-loss dynamics associa...</td>\n",
       "      <td>2000.0</td>\n",
       "      <td>[6]</td>\n",
       "      <td>1</td>\n",
       "      <td>0</td>\n",
       "      <td>0</td>\n",
       "      <td>1</td>\n",
       "      <td>[9]</td>\n",
       "      <td>0</td>\n",
       "      <td>3</td>\n",
       "    </tr>\n",
       "    <tr>\n",
       "      <th>4</th>\n",
       "      <td>Soon Nk;Isah N;Ali Mb;Ahmad Ar</td>\n",
       "      <td>Effects of smart tunnel maintenance works on f...</td>\n",
       "      <td>Smart was the light in the tunnel to end devas...</td>\n",
       "      <td>2017.0</td>\n",
       "      <td>[6]</td>\n",
       "      <td>0</td>\n",
       "      <td>0</td>\n",
       "      <td>0</td>\n",
       "      <td>0</td>\n",
       "      <td>[6, 8, 11]</td>\n",
       "      <td>0</td>\n",
       "      <td>1</td>\n",
       "    </tr>\n",
       "  </tbody>\n",
       "</table>\n",
       "</div>"
      ],
      "text/plain": [
       "                               AU  \\\n",
       "0        Rajesh S;Jain S;Sharma P   \n",
       "1             Bergholt D;Lujala P   \n",
       "2           Nyaupane Gp;Chhetri N   \n",
       "3         Mcclelland Dm;Bowles Ds   \n",
       "4  Soon Nk;Isah N;Ali Mb;Ahmad Ar   \n",
       "\n",
       "                                                  TI  \\\n",
       "0  Inherent vulnerability assessment of rural hou...   \n",
       "1  Climate-related natural disasters, economic gr...   \n",
       "2  Vulnerability to climate change of nature-base...   \n",
       "3  Estimating life loss for dam safety and risk a...   \n",
       "4  Effects of smart tunnel maintenance works on f...   \n",
       "\n",
       "                                                  AB      PY meta_topic  \\\n",
       "0  The recent trend of shifting focus from hazard...  2018.0        [0]   \n",
       "1  Global warming is expected to make the climate...  2012.0        [1]   \n",
       "2  Given their unique natural attractions, includ...  2009.0        [1]   \n",
       "3  An understanding of life-loss dynamics associa...  2000.0        [6]   \n",
       "4  Smart was the light in the tunnel to end devas...  2017.0        [6]   \n",
       "\n",
       "   framing before  during impacts     methods urban_rural flood_type  \n",
       "0        2      0       0       2  [6, 9, 11]           0          1  \n",
       "1        0      0       0     2_7    [11, 13]           0          1  \n",
       "2        0      0       0     2_7         [9]           2        5_8  \n",
       "3        1      0       0       1         [9]           0          3  \n",
       "4        0      0       0       0  [6, 8, 11]           0          1  "
      ]
     },
     "execution_count": 22,
     "metadata": {},
     "output_type": "execute_result"
    }
   ],
   "source": [
    "data.head()"
   ]
  },
  {
   "cell_type": "code",
   "execution_count": 23,
   "metadata": {},
   "outputs": [],
   "source": [
    "small_df = data['meta_topic']"
   ]
  },
  {
   "cell_type": "code",
   "execution_count": 24,
   "metadata": {},
   "outputs": [
    {
     "data": {
      "text/plain": [
       "0      [0]\n",
       "1      [1]\n",
       "2      [1]\n",
       "3      [6]\n",
       "4      [6]\n",
       "      ... \n",
       "573    [0]\n",
       "574    [0]\n",
       "575    [6]\n",
       "576    [0]\n",
       "577    [0]\n",
       "Name: meta_topic, Length: 578, dtype: object"
      ]
     },
     "execution_count": 24,
     "metadata": {},
     "output_type": "execute_result"
    }
   ],
   "source": [
    "small_df"
   ]
  },
  {
   "cell_type": "code",
   "execution_count": null,
   "metadata": {},
   "outputs": [],
   "source": []
  },
  {
   "cell_type": "code",
   "execution_count": null,
   "metadata": {},
   "outputs": [],
   "source": []
  },
  {
   "cell_type": "code",
   "execution_count": null,
   "metadata": {},
   "outputs": [],
   "source": []
  },
  {
   "cell_type": "code",
   "execution_count": null,
   "metadata": {},
   "outputs": [],
   "source": []
  },
  {
   "cell_type": "code",
   "execution_count": null,
   "metadata": {},
   "outputs": [],
   "source": [
    "data['methods'] = data['methods'].str.split(\"_\", expand = False)\n",
    "data['framing'] = data['framing'].astype('category')\n",
    "data['meta_topic'] = data['meta_topic'].str.split(\"_\", expand = False)"
   ]
  },
  {
   "cell_type": "markdown",
   "metadata": {},
   "source": [
    "Looking at total counts for the metatopics"
   ]
  },
  {
   "cell_type": "code",
   "execution_count": 242,
   "metadata": {},
   "outputs": [
    {
     "name": "stdout",
     "output_type": "stream",
     "text": [
      "0 :  260\n",
      "1 :  47\n",
      "2 :  10\n",
      "3 :  68\n",
      "4 :  81\n",
      "5 :  33\n",
      "6 :  163\n",
      "7 :  34\n"
     ]
    }
   ],
   "source": [
    "topics = [\"0\", \"1\", \"2\", \"3\", \"4\", \"5\", \"6\", \"7\"]\n",
    "\n",
    "for topic in topics:\n",
    "    print(topic , \": \" , data.meta_topic.map(lambda d: topic in d).sum())\n"
   ]
  },
  {
   "cell_type": "markdown",
   "metadata": {},
   "source": [
    "Finding the overlaps. I know this is the least efficient way in the universe:"
   ]
  },
  {
   "cell_type": "code",
   "execution_count": 256,
   "metadata": {},
   "outputs": [
    {
     "data": {
      "text/plain": [
       "count        104\n",
       "unique        18\n",
       "top       [4, 6]\n",
       "freq          39\n",
       "Name: meta_topic, dtype: object"
      ]
     },
     "execution_count": 256,
     "metadata": {},
     "output_type": "execute_result"
    }
   ],
   "source": [
    "data.where(data.meta_topic.str.len() > 1).meta_topic.describe()"
   ]
  },
  {
   "cell_type": "code",
   "execution_count": 259,
   "metadata": {},
   "outputs": [
    {
     "data": {
      "text/plain": [
       "24        [3, 6]\n",
       "30        [1, 6]\n",
       "33        [3, 6]\n",
       "36        [6, 7]\n",
       "44     [1, 3, 6]\n",
       "         ...    \n",
       "553       [4, 6]\n",
       "556    [3, 4, 6]\n",
       "557       [4, 6]\n",
       "562       [1, 6]\n",
       "563       [4, 6]\n",
       "Name: meta_topic, Length: 104, dtype: object"
      ]
     },
     "execution_count": 259,
     "metadata": {},
     "output_type": "execute_result"
    }
   ],
   "source": [
    "meta_overlaps = data.where(data.meta_topic.str.len() > 1).meta_topic.dropna()\n"
   ]
  },
  {
   "cell_type": "code",
   "execution_count": 269,
   "metadata": {},
   "outputs": [
    {
     "data": {
      "text/plain": [
       "44        [1, 3, 6]\n",
       "121       [1, 3, 6]\n",
       "126    [4, 5, 6, 7]\n",
       "154    [1, 2, 3, 6]\n",
       "169       [1, 4, 6]\n",
       "252       [1, 4, 6]\n",
       "335       [1, 4, 6]\n",
       "348       [3, 4, 6]\n",
       "365       [3, 4, 6]\n",
       "497       [1, 3, 6]\n",
       "511       [1, 3, 4]\n",
       "556       [3, 4, 6]\n",
       "Name: meta_topic, dtype: object"
      ]
     },
     "execution_count": 269,
     "metadata": {},
     "output_type": "execute_result"
    }
   ],
   "source": [
    "meta_overlaps.where(meta_overlaps.str.len() > 2).dropna()"
   ]
  },
  {
   "cell_type": "code",
   "execution_count": 265,
   "metadata": {},
   "outputs": [
    {
     "data": {
      "text/plain": [
       "count        104\n",
       "unique        18\n",
       "top       [4, 6]\n",
       "freq          39\n",
       "Name: meta_topic, dtype: object"
      ]
     },
     "execution_count": 265,
     "metadata": {},
     "output_type": "execute_result"
    }
   ],
   "source": [
    "meta_overlaps.describe()\n",
    "#[data['meta_topic'].unique() for meta_topic in data.columns]"
   ]
  },
  {
   "cell_type": "code",
   "execution_count": null,
   "metadata": {},
   "outputs": [],
   "source": []
  },
  {
   "cell_type": "code",
   "execution_count": null,
   "metadata": {},
   "outputs": [],
   "source": []
  },
  {
   "cell_type": "code",
   "execution_count": null,
   "metadata": {},
   "outputs": [],
   "source": []
  },
  {
   "cell_type": "code",
   "execution_count": 221,
   "metadata": {},
   "outputs": [
    {
     "data": {
      "image/png": "[encoded data removed]",
      "text/plain": [
       "<Figure size 864x432 with 1 Axes>"
      ]
     },
     "metadata": {
      "needs_background": "light"
     },
     "output_type": "display_data"
    }
   ],
   "source": [
    "data.PY.value_counts().sort_index().plot(x = 'PY', label = 'Total Papers')\n",
    "\n",
    "plt.legend()\n",
    "plt.xlabel('Year')\n",
    "plt.ylabel('Count')\n",
    "\n",
    "plt.tight_layout()"
   ]
  },
  {
   "cell_type": "code",
   "execution_count": null,
   "metadata": {},
   "outputs": [],
   "source": []
  },
  {
   "cell_type": "markdown",
   "metadata": {},
   "source": [
    "### References / Tabs I had opened\n",
    "\n",
    "- [Cleaning a messy dataset using Python](https://medium.com/well-red/cleaning-a-messy-dataset-using-python-7d7ab0bf199b) \n",
    "- [Plot each year of a time series on the same x-axis using Pandas](http://atedstone.github.io/pandas-plot-seasons-time-series/)\n",
    "\n",
    "### Plotting tools to look into\n",
    "\n",
    "- [Making network graphs interactive with Python and Pyvis](https://towardsdatascience.com/making-network-graphs-interactive-with-python-and-pyvis-b754c22c270)\n",
    "- [Interactive network visualizations](https://pyvis.readthedocs.io/en/latest/index.html#)\n",
    "- [Python Graph Gallery](https://www.python-graph-gallery.com/)\n",
    "\n"
   ]
  },
  {
   "cell_type": "code",
   "execution_count": null,
   "metadata": {},
   "outputs": [],
   "source": []
  }
 ],
 "metadata": {
  "kernelspec": {
   "display_name": "Python 3",
   "language": "python",
   "name": "python3"
  },
  "language_info": {
   "codemirror_mode": {
    "name": "ipython",
    "version": 3
   },
   "file_extension": ".py",
   "mimetype": "text/x-python",
   "name": "python",
   "nbconvert_exporter": "python",
   "pygments_lexer": "ipython3",
   "version": "3.9.5"
  }
 },
 "nbformat": 4,
 "nbformat_minor": 4
}
