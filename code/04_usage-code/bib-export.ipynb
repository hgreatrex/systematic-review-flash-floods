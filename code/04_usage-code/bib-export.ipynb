{
 "cells": [
  {
   "cell_type": "code",
   "execution_count": 1,
   "id": "042d3d45-88d5-4686-ab11-4e23d4c86211",
   "metadata": {},
   "outputs": [],
   "source": [
    "import numpy as np\n",
    "import pandas as pd"
   ]
  },
  {
   "cell_type": "code",
   "execution_count": 2,
   "id": "0bc7bd28-5094-4ba3-8e93-c0adc541302c",
   "metadata": {},
   "outputs": [
    {
     "name": "stdout",
     "output_type": "stream",
     "text": [
      "Requirement already satisfied: libmagic in /opt/miniconda3/envs/cmip6-env/lib/python3.9/site-packages (1.0)\n",
      "Requirement already satisfied: biblib in /opt/miniconda3/envs/cmip6-env/lib/python3.9/site-packages (0.1.3)\n",
      "Requirement already satisfied: pybtex>=0.19 in /opt/miniconda3/envs/cmip6-env/lib/python3.9/site-packages (from biblib) (0.24.0)\n",
      "Requirement already satisfied: unidecode>=0.04.19 in /opt/miniconda3/envs/cmip6-env/lib/python3.9/site-packages (from biblib) (1.3.0)\n",
      "Requirement already satisfied: bibtex-pygments-lexer>=0.0.1 in /opt/miniconda3/envs/cmip6-env/lib/python3.9/site-packages (from biblib) (0.0.1)\n",
      "Requirement already satisfied: isbnlib>=3.5.6 in /opt/miniconda3/envs/cmip6-env/lib/python3.9/site-packages (from biblib) (3.10.8)\n",
      "Requirement already satisfied: python-magic>=0.4.10 in /opt/miniconda3/envs/cmip6-env/lib/python3.9/site-packages (from biblib) (0.4.24)\n",
      "Requirement already satisfied: latexcodec>=1.0.4 in /opt/miniconda3/envs/cmip6-env/lib/python3.9/site-packages (from pybtex>=0.19->biblib) (2.0.1)\n",
      "Requirement already satisfied: six in /opt/miniconda3/envs/cmip6-env/lib/python3.9/site-packages (from pybtex>=0.19->biblib) (1.15.0)\n",
      "Requirement already satisfied: PyYAML>=3.01 in /opt/miniconda3/envs/cmip6-env/lib/python3.9/site-packages (from pybtex>=0.19->biblib) (5.4.1)\n"
     ]
    }
   ],
   "source": [
    "!pip install libmagic\n",
    "!pip install biblib"
   ]
  },
  {
   "cell_type": "code",
   "execution_count": 6,
   "id": "5f0a4afc-60dc-4b9d-9ea5-ad94a77f4698",
   "metadata": {},
   "outputs": [
    {
     "ename": "ModuleNotFoundError",
     "evalue": "No module named 'libmagic'",
     "output_type": "error",
     "traceback": [
      "\u001b[0;31m---------------------------------------------------------------------------\u001b[0m",
      "\u001b[0;31mModuleNotFoundError\u001b[0m                       Traceback (most recent call last)",
      "\u001b[0;32m<ipython-input-6-7cf2bacabcee>\u001b[0m in \u001b[0;36m<module>\u001b[0;34m\u001b[0m\n\u001b[0;32m----> 1\u001b[0;31m \u001b[0;32mimport\u001b[0m \u001b[0mlibmagic\u001b[0m\u001b[0;34m\u001b[0m\u001b[0;34m\u001b[0m\u001b[0m\n\u001b[0m\u001b[1;32m      2\u001b[0m \u001b[0;31m#import biblib\u001b[0m\u001b[0;34m\u001b[0m\u001b[0;34m\u001b[0m\u001b[0;34m\u001b[0m\u001b[0m\n",
      "\u001b[0;31mModuleNotFoundError\u001b[0m: No module named 'libmagic'"
     ]
    }
   ],
   "source": [
    "import libmagic\n",
    "#import biblib"
   ]
  },
  {
   "cell_type": "code",
   "execution_count": 8,
   "id": "355fd1d9-961f-40ec-9c7d-e6ee5722b7f4",
   "metadata": {},
   "outputs": [
    {
     "data": {
      "text/html": [
       "<div>\n",
       "<style scoped>\n",
       "    .dataframe tbody tr th:only-of-type {\n",
       "        vertical-align: middle;\n",
       "    }\n",
       "\n",
       "    .dataframe tbody tr th {\n",
       "        vertical-align: top;\n",
       "    }\n",
       "\n",
       "    .dataframe thead th {\n",
       "        text-align: right;\n",
       "    }\n",
       "</style>\n",
       "<table border=\"1\" class=\"dataframe\">\n",
       "  <thead>\n",
       "    <tr style=\"text-align: right;\">\n",
       "      <th></th>\n",
       "      <th>AU</th>\n",
       "      <th>TI</th>\n",
       "      <th>AB</th>\n",
       "      <th>DOI</th>\n",
       "      <th>PY</th>\n",
       "      <th>meta_topic</th>\n",
       "      <th>framing</th>\n",
       "      <th>before</th>\n",
       "      <th>during</th>\n",
       "      <th>impacts</th>\n",
       "      <th>methods</th>\n",
       "      <th>urban_rural</th>\n",
       "      <th>flood_type</th>\n",
       "    </tr>\n",
       "  </thead>\n",
       "  <tbody>\n",
       "    <tr>\n",
       "      <th>0</th>\n",
       "      <td>Rajesh S;Jain S;Sharma P</td>\n",
       "      <td>Inherent vulnerability assessment of rural hou...</td>\n",
       "      <td>The recent trend of shifting focus from hazard...</td>\n",
       "      <td>10.1016/J.ECOLIND.2017.10.014</td>\n",
       "      <td>2018.0</td>\n",
       "      <td>0</td>\n",
       "      <td>2</td>\n",
       "      <td>0</td>\n",
       "      <td>0</td>\n",
       "      <td>2</td>\n",
       "      <td>6_9_11</td>\n",
       "      <td>0</td>\n",
       "      <td>1</td>\n",
       "    </tr>\n",
       "    <tr>\n",
       "      <th>1</th>\n",
       "      <td>Bergholt D;Lujala P</td>\n",
       "      <td>Climate-related natural disasters, economic gr...</td>\n",
       "      <td>Global warming is expected to make the climate...</td>\n",
       "      <td>10.1177/0022343311426167</td>\n",
       "      <td>2012.0</td>\n",
       "      <td>1</td>\n",
       "      <td>0</td>\n",
       "      <td>0</td>\n",
       "      <td>0</td>\n",
       "      <td>2_7</td>\n",
       "      <td>11_13</td>\n",
       "      <td>0</td>\n",
       "      <td>1</td>\n",
       "    </tr>\n",
       "    <tr>\n",
       "      <th>2</th>\n",
       "      <td>Nyaupane Gp;Chhetri N</td>\n",
       "      <td>Vulnerability to climate change of nature-base...</td>\n",
       "      <td>Given their unique natural attractions, includ...</td>\n",
       "      <td>10.1080/14616680802643359</td>\n",
       "      <td>2009.0</td>\n",
       "      <td>1</td>\n",
       "      <td>0</td>\n",
       "      <td>0</td>\n",
       "      <td>0</td>\n",
       "      <td>2_7</td>\n",
       "      <td>9</td>\n",
       "      <td>2</td>\n",
       "      <td>5_8</td>\n",
       "    </tr>\n",
       "    <tr>\n",
       "      <th>3</th>\n",
       "      <td>Mcclelland Dm;Bowles Ds</td>\n",
       "      <td>Estimating life loss for dam safety and risk a...</td>\n",
       "      <td>An understanding of life-loss dynamics associa...</td>\n",
       "      <td>NaN</td>\n",
       "      <td>2000.0</td>\n",
       "      <td>6</td>\n",
       "      <td>1</td>\n",
       "      <td>0</td>\n",
       "      <td>0</td>\n",
       "      <td>1</td>\n",
       "      <td>9</td>\n",
       "      <td>0</td>\n",
       "      <td>3</td>\n",
       "    </tr>\n",
       "    <tr>\n",
       "      <th>4</th>\n",
       "      <td>Soon Nk;Isah N;Ali Mb;Ahmad Ar</td>\n",
       "      <td>Effects of smart tunnel maintenance works on f...</td>\n",
       "      <td>Smart was the light in the tunnel to end devas...</td>\n",
       "      <td>10.1166/ASL.2017.7172</td>\n",
       "      <td>2017.0</td>\n",
       "      <td>6</td>\n",
       "      <td>0</td>\n",
       "      <td>0</td>\n",
       "      <td>0</td>\n",
       "      <td>0</td>\n",
       "      <td>6_8_11</td>\n",
       "      <td>0</td>\n",
       "      <td>1</td>\n",
       "    </tr>\n",
       "  </tbody>\n",
       "</table>\n",
       "</div>"
      ],
      "text/plain": [
       "                               AU  \\\n",
       "0        Rajesh S;Jain S;Sharma P   \n",
       "1             Bergholt D;Lujala P   \n",
       "2           Nyaupane Gp;Chhetri N   \n",
       "3         Mcclelland Dm;Bowles Ds   \n",
       "4  Soon Nk;Isah N;Ali Mb;Ahmad Ar   \n",
       "\n",
       "                                                  TI  \\\n",
       "0  Inherent vulnerability assessment of rural hou...   \n",
       "1  Climate-related natural disasters, economic gr...   \n",
       "2  Vulnerability to climate change of nature-base...   \n",
       "3  Estimating life loss for dam safety and risk a...   \n",
       "4  Effects of smart tunnel maintenance works on f...   \n",
       "\n",
       "                                                  AB  \\\n",
       "0  The recent trend of shifting focus from hazard...   \n",
       "1  Global warming is expected to make the climate...   \n",
       "2  Given their unique natural attractions, includ...   \n",
       "3  An understanding of life-loss dynamics associa...   \n",
       "4  Smart was the light in the tunnel to end devas...   \n",
       "\n",
       "                             DOI      PY meta_topic  framing before  during  \\\n",
       "0  10.1016/J.ECOLIND.2017.10.014  2018.0          0        2      0       0   \n",
       "1       10.1177/0022343311426167  2012.0          1        0      0       0   \n",
       "2      10.1080/14616680802643359  2009.0          1        0      0       0   \n",
       "3                            NaN  2000.0          6        1      0       0   \n",
       "4          10.1166/ASL.2017.7172  2017.0          6        0      0       0   \n",
       "\n",
       "  impacts methods urban_rural flood_type  \n",
       "0       2  6_9_11           0          1  \n",
       "1     2_7   11_13           0          1  \n",
       "2     2_7       9           2        5_8  \n",
       "3       1       9           0          3  \n",
       "4       0  6_8_11           0          1  "
      ]
     },
     "execution_count": 8,
     "metadata": {},
     "output_type": "execute_result"
    }
   ],
   "source": [
    "data = pd.read_csv('./ScreenedData_for-visulization.csv')\n",
    "\n",
    "# Drop columns we don't need\n",
    "data.drop(['Key', 'DT2', 'TC', 'PA', 'CR', 'C1', 'SR', 'BE', 'FU', 'BN', 'SN', 'PN', 'PP', \n",
    "           'PU', 'VL', 'UT', 'NR', 'SC', 'U2', 'WC', 'EM', 'SE', 'GA', 'BO', 'RP', 'DB', \n",
    "           'AU_UN_NR', 'AU_UN', 'SR_FULL','About an actual event',  'Screen3_Planning', \n",
    "           'DT', 'LA', 'SO', 'DE', 'ID', 'AU1_UN'], axis=1, inplace=True)\n",
    "\n",
    "data.rename(columns = {'Study method':'methods', \n",
    "                       'After a flood': 'impacts', \n",
    "                       'Paper framing': 'framing', \n",
    "                       'Meta topic': 'meta_topic',\n",
    "                       'Before a flood': 'before',\n",
    "                       'During a flood': 'during',\n",
    "                       'Urban/Rural': 'urban_rural',\n",
    "                       'Flood type': 'flood_type',\n",
    "                       'DI': \"DOI\"\n",
    "                      }, inplace = True)\n",
    "\n",
    "data.head()"
   ]
  },
  {
   "cell_type": "markdown",
   "id": "d8fa4086-3852-417c-ad5b-e44b3149bd6d",
   "metadata": {},
   "source": [
    "Simple bib"
   ]
  },
  {
   "cell_type": "code",
   "execution_count": 11,
   "id": "2f74b5d4-c4be-4c05-81cb-04282e48db14",
   "metadata": {},
   "outputs": [
    {
     "data": {
      "text/plain": [
       "0         10.1016/J.ECOLIND.2017.10.014\n",
       "1              10.1177/0022343311426167\n",
       "2             10.1080/14616680802643359\n",
       "3                                   NaN\n",
       "4                 10.1166/ASL.2017.7172\n",
       "                     ...               \n",
       "573            10.1088/1748-9326/AB6EDD\n",
       "574                 10.2166/NH.2019.091\n",
       "575            10.12911/22998993/116349\n",
       "576            10.12911/22998993/116325\n",
       "577    10.1016/J.JAFREARSCI.2019.103709\n",
       "Name: DOI, Length: 578, dtype: object"
      ]
     },
     "execution_count": 11,
     "metadata": {},
     "output_type": "execute_result"
    }
   ],
   "source": [
    "data.DOI "
   ]
  },
  {
   "cell_type": "code",
   "execution_count": 22,
   "id": "c573eedf-15d4-4a39-83a1-ac92c6ee05d0",
   "metadata": {},
   "outputs": [
    {
     "data": {
      "text/plain": [
       "'10.1177/0022343311426167'"
      ]
     },
     "execution_count": 22,
     "metadata": {},
     "output_type": "execute_result"
    }
   ],
   "source": [
    "data.DOI[1]\n"
   ]
  },
  {
   "cell_type": "code",
   "execution_count": 23,
   "id": "41b11a85-266d-47a3-afce-8b6e07abb839",
   "metadata": {},
   "outputs": [
    {
     "name": "stdout",
     "output_type": "stream",
     "text": [
      "\n",
      "\n",
      "\n",
      "@article{2012,\n",
      "\tdoi = {10.1177/0022343311426167},\n",
      "\turl = {https://doi.org/10.1177%2F0022343311426167},\n",
      "\tyear = 2012,\n",
      "\tmonth = {jan},\n",
      "\tpublisher = {{SAGE} Publications},\n",
      "\tvolume = {49},\n",
      "\tnumber = {1},\n",
      "\tpages = {147--162},\n",
      "\tauthor = {Drago Bergholt and Päivi Lujala},\n",
      "\ttitle = {Climate-related natural disasters, economic growth, and armed civil conflict}\n",
      "}\n"
     ]
    }
   ],
   "source": [
    "!doi2bib '10.1177/0022343311426167'"
   ]
  },
  {
   "cell_type": "code",
   "execution_count": 26,
   "id": "eef92bb1-613a-4b9f-96bb-e9ad62ce673f",
   "metadata": {},
   "outputs": [
    {
     "name": "stdout",
     "output_type": "stream",
     "text": [
      "zsh:1: no matches found: data.DOI[1]\n"
     ]
    }
   ],
   "source": []
  },
  {
   "cell_type": "markdown",
   "id": "0f0b8fb5-3842-4d8f-87bf-af31250ea1f1",
   "metadata": {},
   "source": [
    "More DOIplex bib"
   ]
  }
 ],
 "metadata": {
  "kernelspec": {
   "display_name": "Python 3",
   "language": "python",
   "name": "python3"
  },
  "language_info": {
   "codemirror_mode": {
    "name": "ipython",
    "version": 3
   },
   "file_extension": ".py",
   "mimetype": "text/x-python",
   "name": "python",
   "nbconvert_exporter": "python",
   "pygments_lexer": "ipython3",
   "version": "3.9.5"
  }
 },
 "nbformat": 4,
 "nbformat_minor": 5
}
